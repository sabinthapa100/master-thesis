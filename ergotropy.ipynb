{
 "cells": [
  {
   "cell_type": "markdown",
   "id": "a8c4cdb3",
   "metadata": {},
   "source": [
    "## Ergotropy\n",
    "\n",
    "The goal of this notebook is to compute the ergotropy $W$ of a system $S$, given an arbitrary initial state and hamiltonian $H$. The ergotropy $W$ is none other that the maximum amount of work extractable from a finite system, and it is given by\n",
    "\n",
    "$$\n",
    "W = E(\\rho_0) - E(\\rho(\\tau)) = tr[\\rho_0 H] - tr[\\rho(\\tau) H] = \\sum_{j,k}r_j\\epsilon_k(|\\langle r_j|\\epsilon_k \\rangle|^2-\\delta_{jk})\n",
    "$$\n",
    "\n",
    "where we wrote \n",
    "\n",
    "$$\n",
    "\\rho_0 = \\sum_{j \\geqslant 1}r_j|r_j\\rangle \\langle r_j| \\\\\n",
    "H = \\sum_{k \\geqslant 1}\\epsilon_k|\\epsilon_k\\rangle \\langle \\epsilon_k| \\\\\n",
    "\\rho(\\tau) = \\sum_{j}r_j|\\epsilon_j\\rangle \\langle \\epsilon_j|\n",
    "$$ "
   ]
  },
  {
   "cell_type": "code",
   "execution_count": 2,
   "id": "94f2dd39",
   "metadata": {},
   "outputs": [],
   "source": [
    "import matplotlib.pyplot as plt\n",
    "import numpy as np\n",
    "from IPython.display import Image\n",
    "from qutip import (Qobj, about, basis, coherent, coherent_dm, create, destroy,\n",
    "                   expect, fock, fock_dm, mesolve, qeye, sigmax, sigmay,\n",
    "                   sigmaz, tensor, thermal_dm)\n",
    "\n",
    "%matplotlib inline"
   ]
  },
  {
   "cell_type": "code",
   "execution_count": 3,
   "id": "4aa008cf",
   "metadata": {},
   "outputs": [],
   "source": [
    "def kronecker_delta(a,b):\n",
    "    if a==b: return 1\n",
    "    else: return 0"
   ]
  },
  {
   "cell_type": "code",
   "execution_count": 4,
   "id": "f651fd5f",
   "metadata": {},
   "outputs": [],
   "source": [
    "def ergotropy(_init_state, _H):\n",
    "    # for now I assume that init_state is given as a density matrix\n",
    "    # TODO: add a check to enforce this!\n",
    "    \n",
    "    # Calculate eigenvalues and eigenstates\n",
    "    _init_state_eigens = _init_state.eigenstates()\n",
    "    _H_eigens = _H.eigenstates()\n",
    "    \n",
    "    # Next, I have to order the eigenvalues, decreasing for init_state and ascending for H\n",
    "    _init_state_eigenvalues_ordered = -np.sort(-_init_state_eigens[0], kind='mergesort') # TODO: do this in a better way\n",
    "    _H_eigenenergies_ordered = np.sort(_H_eigens[0], kind='mergesort')\n",
    "    \n",
    "    _ergotropy = 0\n",
    "    for j in range(len(_init_state_eigenvalues_ordered)):\n",
    "        for k in range(len(_H_eigenenergies_ordered)):\n",
    "            _ergotropy += _init_state_eigenvalues_ordered[j]*_H_eigenenergies_ordered[k] * (\n",
    "                          abs(_H_eigens[1][k].overlap(_init_state_eigens[1][j]))**2-kronecker_delta(j,k))\n",
    "    return _ergotropy"
   ]
  },
  {
   "cell_type": "code",
   "execution_count": 9,
   "id": "9fb0c57c",
   "metadata": {},
   "outputs": [
    {
     "data": {
      "text/latex": [
       "Quantum object: dims = [[2], [2]], shape = (2, 2), type = oper, isherm = True $ \\\\ \\left(\\begin{matrix}0.292 & 0.455\\\\0.455 & 0.708\\\\\\end{matrix}\\right)$"
      ],
      "text/plain": [
       "Quantum object: dims = [[2], [2]], shape = (2, 2), type = oper, isherm = True\n",
       "Qobj data =\n",
       "[[0.29192658 0.45464871]\n",
       " [0.45464871 0.70807342]]"
      ]
     },
     "execution_count": 9,
     "metadata": {},
     "output_type": "execute_result"
    }
   ],
   "source": [
    "state = coherent_dm(N=2, alpha=1.0)\n",
    "state"
   ]
  },
  {
   "cell_type": "code",
   "execution_count": 31,
   "id": "ca935dc5",
   "metadata": {},
   "outputs": [
    {
     "data": {
      "text/plain": [
       "2"
      ]
     },
     "execution_count": 31,
     "metadata": {},
     "output_type": "execute_result"
    }
   ],
   "source": [
    "len(state.eigenenergies())"
   ]
  },
  {
   "cell_type": "code",
   "execution_count": 14,
   "id": "1a08f5cd",
   "metadata": {
    "scrolled": true
   },
   "outputs": [
    {
     "data": {
      "text/plain": [
       "array([1., 0.])"
      ]
     },
     "execution_count": 14,
     "metadata": {},
     "output_type": "execute_result"
    }
   ],
   "source": [
    "-np.sort(-state.eigenenergies(), kind='mergesort')"
   ]
  },
  {
   "cell_type": "code",
   "execution_count": 20,
   "id": "8e5310f3",
   "metadata": {},
   "outputs": [
    {
     "data": {
      "text/plain": [
       "array([Quantum object: dims = [[2], [1]], shape = (2, 1), type = ket\n",
       "       Qobj data =\n",
       "       [[-0.84147098]\n",
       "        [ 0.54030231]]                                              ,\n",
       "       Quantum object: dims = [[2], [1]], shape = (2, 1), type = ket\n",
       "       Qobj data =\n",
       "       [[0.54030231]\n",
       "        [0.84147098]]                                               ],\n",
       "      dtype=object)"
      ]
     },
     "execution_count": 20,
     "metadata": {},
     "output_type": "execute_result"
    }
   ],
   "source": [
    "state.eigenstates()[1]"
   ]
  },
  {
   "cell_type": "code",
   "execution_count": 8,
   "id": "a22debe9",
   "metadata": {},
   "outputs": [
    {
     "data": {
      "text/latex": [
       "Quantum object: dims = [[2], [2]], shape = (2, 2), type = oper, isherm = True $ \\\\ \\left(\\begin{matrix}1.0 & -0.100j\\\\0.100j & -1.0\\\\\\end{matrix}\\right)$"
      ],
      "text/plain": [
       "Quantum object: dims = [[2], [2]], shape = (2, 2), type = oper, isherm = True\n",
       "Qobj data =\n",
       "[[ 1.+0.j   0.-0.1j]\n",
       " [ 0.+0.1j -1.+0.j ]]"
      ]
     },
     "execution_count": 8,
     "metadata": {},
     "output_type": "execute_result"
    }
   ],
   "source": [
    "H = 1.0 * sigmaz() + 0.1 * sigmay()\n",
    "H"
   ]
  },
  {
   "cell_type": "code",
   "execution_count": 15,
   "id": "308e905f",
   "metadata": {
    "scrolled": true
   },
   "outputs": [
    {
     "data": {
      "text/plain": [
       "array([-1.00498756,  1.00498756])"
      ]
     },
     "execution_count": 15,
     "metadata": {},
     "output_type": "execute_result"
    }
   ],
   "source": [
    "np.sort(H.eigenenergies(), kind='mergesort')"
   ]
  },
  {
   "cell_type": "code",
   "execution_count": 29,
   "id": "c5e44a5d",
   "metadata": {},
   "outputs": [
    {
     "data": {
      "text/plain": [
       "0.29295921052367796"
      ]
     },
     "execution_count": 29,
     "metadata": {},
     "output_type": "execute_result"
    }
   ],
   "source": [
    "abs(H.eigenstates()[1][0].overlap(state.eigenstates()[1][0]))**2"
   ]
  },
  {
   "cell_type": "code",
   "execution_count": 44,
   "id": "615c9184",
   "metadata": {},
   "outputs": [
    {
     "data": {
      "text/plain": [
       "1.4211343986592313"
      ]
     },
     "execution_count": 44,
     "metadata": {},
     "output_type": "execute_result"
    }
   ],
   "source": [
    "ergotropy(coherent_dm(N=2, alpha=1.0),H)"
   ]
  },
  {
   "cell_type": "markdown",
   "id": "33a6ce05",
   "metadata": {},
   "source": [
    "## Master equations solutions\n",
    "In the following we compare our numerical solutions (obtained via `mesolve`) with the analytical solutions of the article. First we consider the state of the battery and of the charger as harmonic oscillators, and then as qubits. \n",
    "We are going to compare the plots of the mean energy $E_B(\\tau)$ and of the ergotropy $\\epsilon_B(\\tau)$, defined as:\n",
    "\n",
    "$$\n",
    "E_B(\\tau) \\equiv tr[H_B \\rho_B(\\tau)] \\\\\n",
    "\\epsilon_B(\\tau) \\equiv tr[H_B \\rho_B(\\tau)] - \\min_{U_B} tr[H_B U_B \\rho_B(\\tau) U_B\\dagger ]\n",
    "$$"
   ]
  },
  {
   "cell_type": "code",
   "execution_count": 5,
   "id": "0b4d03d7",
   "metadata": {},
   "outputs": [],
   "source": [
    "# First case, two harmonic oscillators\n",
    "w_zero = 1.0\n",
    "a = tensor(destroy(5), qeye(5))\n",
    "b = tensor(qeye(5), destroy(5))\n",
    "\n",
    "H_A = w_zero * a.dag() * a\n",
    "H_B = w_zero * b.dag() * b\n",
    "\n",
    "F = 1.0\n",
    "delta_H_A = F * ( exp(-1j*w_zero*t) * a.dag() + exp(1j*w_zero*t) * a)"
   ]
  }
 ],
 "metadata": {
  "kernelspec": {
   "display_name": "Python 3 (ipykernel)",
   "language": "python",
   "name": "python3"
  },
  "language_info": {
   "codemirror_mode": {
    "name": "ipython",
    "version": 3
   },
   "file_extension": ".py",
   "mimetype": "text/x-python",
   "name": "python",
   "nbconvert_exporter": "python",
   "pygments_lexer": "ipython3",
   "version": "3.11.0"
  }
 },
 "nbformat": 4,
 "nbformat_minor": 5
}
